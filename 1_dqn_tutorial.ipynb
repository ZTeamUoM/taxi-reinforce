{
 "cells": [
  {
   "cell_type": "markdown",
   "metadata": {
    "colab_type": "text",
    "id": "klGNgWREsvQv"
   },
   "source": [
    "##### Copyright 2018 The TF-Agents Authors."
   ]
  },
  {
   "cell_type": "code",
   "execution_count": 0,
   "metadata": {
    "cellView": "form",
    "colab": {},
    "colab_type": "code",
    "id": "nQnmcm0oI1Q-"
   },
   "outputs": [],
   "source": [
    "#@title Licensed under the Apache License, Version 2.0 (the \"License\");\n",
    "# you may not use this file except in compliance with the License.\n",
    "# You may obtain a copy of the License at\n",
    "#\n",
    "# https://www.apache.org/licenses/LICENSE-2.0\n",
    "#\n",
    "# Unless required by applicable law or agreed to in writing, software\n",
    "# distributed under the License is distributed on an \"AS IS\" BASIS,\n",
    "# WITHOUT WARRANTIES OR CONDITIONS OF ANY KIND, either express or implied.\n",
    "# See the License for the specific language governing permissions and\n",
    "# limitations under the License."
   ]
  },
  {
   "cell_type": "markdown",
   "metadata": {
    "colab_type": "text",
    "id": "pmDI-h7cI0tI"
   },
   "source": [
    "# Train a Deep Q Network with TF-Agents\n",
    "\n",
    "<table class=\"tfo-notebook-buttons\" align=\"left\">\n",
    "  <td>\n",
    "    <a target=\"_blank\" href=\"https://www.tensorflow.org/agents/tutorials/1_dqn_tutorial\">\n",
    "    <img src=\"https://www.tensorflow.org/images/tf_logo_32px.png\" />\n",
    "    View on TensorFlow.org</a>\n",
    "  </td>\n",
    "  <td>\n",
    "    <a target=\"_blank\" href=\"https://colab.research.google.com/github/tensorflow/agents/blob/master/docs/tutorials/1_dqn_tutorial.ipynb\">\n",
    "    <img src=\"https://www.tensorflow.org/images/colab_logo_32px.png\" />\n",
    "    Run in Google Colab</a>\n",
    "  </td>\n",
    "  <td>\n",
    "    <a target=\"_blank\" href=\"https://github.com/tensorflow/agents/blob/master/docs/tutorials/1_dqn_tutorial.ipynb\">\n",
    "    <img src=\"https://www.tensorflow.org/images/GitHub-Mark-32px.png\" />\n",
    "    View source on GitHub</a>\n",
    "  </td>\n",
    "  <td>\n",
    "    <a href=\"https://storage.googleapis.com/tensorflow_docs/agents/docs/tutorials/1_dqn_tutorial.ipynb\"><img src=\"https://www.tensorflow.org/images/download_logo_32px.png\" />Download notebook</a>\n",
    "  </td>\n",
    "</table>"
   ]
  },
  {
   "cell_type": "markdown",
   "metadata": {
    "colab_type": "text",
    "id": "lsaQlK8fFQqH"
   },
   "source": [
    "## Introduction\n"
   ]
  },
  {
   "cell_type": "markdown",
   "metadata": {
    "colab_type": "text",
    "id": "cKOCZlhUgXVK"
   },
   "source": [
    "This example shows how to train a [DQN (Deep Q Networks)](https://storage.googleapis.com/deepmind-media/dqn/DQNNaturePaper.pdf)  agent on the Cartpole environment using the TF-Agents library.\n",
    "\n",
    "![Cartpole environment](https://raw.githubusercontent.com/tensorflow/agents/master/docs/tutorials/images/cartpole.png)\n",
    "\n",
    "It will walk you through all the components in a Reinforcement Learning (RL) pipeline for training, evaluation and data collection.\n",
    "\n",
    "\n",
    "To run this code live, click the 'Run in Google Colab' link above.\n"
   ]
  },
  {
   "cell_type": "markdown",
   "metadata": {
    "colab_type": "text",
    "id": "1u9QVVsShC9X"
   },
   "source": [
    "## Setup"
   ]
  },
  {
   "cell_type": "markdown",
   "metadata": {
    "colab_type": "text",
    "id": "kNrNXKI7bINP"
   },
   "source": [
    "If you haven't installed the following dependencies, run:"
   ]
  },
  {
   "cell_type": "code",
   "execution_count": 1,
   "metadata": {
    "colab": {},
    "colab_type": "code",
    "id": "KEHR2Ui-lo8O"
   },
   "outputs": [
    {
     "name": "stdout",
     "output_type": "stream",
     "text": [
      "Processing /home/haritha/.cache/pip/wheels/7b/47/40/eb50b006d3a7fa52ebcb76cd575124d58f3c1c1cc68dc16787/gym-0.10.11-py3-none-any.whl\n",
      "Requirement already satisfied: numpy>=1.10.4 in /home/haritha/anaconda3/envs/tf_agent/lib/python3.8/site-packages (from gym==0.10.11) (1.19.0)\n",
      "Requirement already satisfied: six in /home/haritha/anaconda3/envs/tf_agent/lib/python3.8/site-packages (from gym==0.10.11) (1.15.0)\n",
      "Requirement already satisfied: scipy in /home/haritha/anaconda3/envs/tf_agent/lib/python3.8/site-packages (from gym==0.10.11) (1.4.1)\n",
      "Requirement already satisfied: pyglet>=1.2.0 in /home/haritha/anaconda3/envs/tf_agent/lib/python3.8/site-packages (from gym==0.10.11) (1.5.0)\n",
      "Requirement already satisfied: requests>=2.0 in /home/haritha/anaconda3/envs/tf_agent/lib/python3.8/site-packages (from gym==0.10.11) (2.24.0)\n",
      "Requirement already satisfied: future in /home/haritha/anaconda3/envs/tf_agent/lib/python3.8/site-packages (from pyglet>=1.2.0->gym==0.10.11) (0.18.2)\n",
      "Requirement already satisfied: chardet<4,>=3.0.2 in /home/haritha/anaconda3/envs/tf_agent/lib/python3.8/site-packages (from requests>=2.0->gym==0.10.11) (3.0.4)\n",
      "Requirement already satisfied: idna<3,>=2.5 in /home/haritha/anaconda3/envs/tf_agent/lib/python3.8/site-packages (from requests>=2.0->gym==0.10.11) (2.10)\n",
      "Requirement already satisfied: urllib3!=1.25.0,!=1.25.1,<1.26,>=1.21.1 in /home/haritha/anaconda3/envs/tf_agent/lib/python3.8/site-packages (from requests>=2.0->gym==0.10.11) (1.25.9)\n",
      "Requirement already satisfied: certifi>=2017.4.17 in /home/haritha/anaconda3/envs/tf_agent/lib/python3.8/site-packages (from requests>=2.0->gym==0.10.11) (2020.6.20)\n",
      "Installing collected packages: gym\n",
      "  Attempting uninstall: gym\n",
      "    Found existing installation: gym 0.17.2\n",
      "    Uninstalling gym-0.17.2:\n",
      "      Successfully uninstalled gym-0.17.2\n",
      "Successfully installed gym-0.10.11\n",
      "Requirement already satisfied: imageio==2.4.0 in /home/haritha/anaconda3/envs/tf_agent/lib/python3.8/site-packages (2.4.0)\n",
      "Requirement already satisfied: pillow in /home/haritha/anaconda3/envs/tf_agent/lib/python3.8/site-packages (from imageio==2.4.0) (7.2.0)\n",
      "Requirement already satisfied: numpy in /home/haritha/anaconda3/envs/tf_agent/lib/python3.8/site-packages (from imageio==2.4.0) (1.19.0)\n",
      "^C\n",
      "Requirement already satisfied: PILLOW in /home/haritha/anaconda3/envs/tf_agent/lib/python3.8/site-packages (7.2.0)\n",
      "Collecting pyglet==1.3.2\n",
      "  Using cached pyglet-1.3.2-py2.py3-none-any.whl (1.0 MB)\n",
      "Requirement already satisfied: future in /home/haritha/anaconda3/envs/tf_agent/lib/python3.8/site-packages (from pyglet==1.3.2) (0.18.2)\n",
      "Installing collected packages: pyglet\n",
      "  Attempting uninstall: pyglet\n",
      "    Found existing installation: pyglet 1.5.0\n",
      "    Uninstalling pyglet-1.5.0:\n",
      "      Successfully uninstalled pyglet-1.5.0\n",
      "Successfully installed pyglet-1.3.2\n",
      "Requirement already satisfied: pyvirtualdisplay in /home/haritha/anaconda3/envs/tf_agent/lib/python3.8/site-packages (1.3.2)\n",
      "Requirement already satisfied: EasyProcess in /home/haritha/anaconda3/envs/tf_agent/lib/python3.8/site-packages (from pyvirtualdisplay) (0.3)\n",
      "Requirement already satisfied: tf-agents in /home/haritha/anaconda3/envs/tf_agent/lib/python3.8/site-packages (0.5.0)\n",
      "Requirement already satisfied: six>=1.10.0 in /home/haritha/anaconda3/envs/tf_agent/lib/python3.8/site-packages (from tf-agents) (1.15.0)\n",
      "Requirement already satisfied: numpy>=1.13.3 in /home/haritha/anaconda3/envs/tf_agent/lib/python3.8/site-packages (from tf-agents) (1.19.0)\n",
      "Requirement already satisfied: absl-py>=0.6.1 in /home/haritha/anaconda3/envs/tf_agent/lib/python3.8/site-packages (from tf-agents) (0.9.0)\n",
      "Requirement already satisfied: protobuf>=3.11.3 in /home/haritha/anaconda3/envs/tf_agent/lib/python3.8/site-packages (from tf-agents) (3.12.2)\n",
      "Requirement already satisfied: tensorflow-probability>=0.9.0 in /home/haritha/anaconda3/envs/tf_agent/lib/python3.8/site-packages (from tf-agents) (0.10.0)\n",
      "Requirement already satisfied: gin-config==0.1.3 in /home/haritha/anaconda3/envs/tf_agent/lib/python3.8/site-packages (from tf-agents) (0.1.3)\n",
      "Requirement already satisfied: setuptools in /home/haritha/anaconda3/envs/tf_agent/lib/python3.8/site-packages (from protobuf>=3.11.3->tf-agents) (47.3.1.post20200622)\n",
      "Requirement already satisfied: decorator in /home/haritha/anaconda3/envs/tf_agent/lib/python3.8/site-packages (from tensorflow-probability>=0.9.0->tf-agents) (4.4.2)\n",
      "Requirement already satisfied: cloudpickle>=1.2.2 in /home/haritha/anaconda3/envs/tf_agent/lib/python3.8/site-packages (from tensorflow-probability>=0.9.0->tf-agents) (1.3.0)\n",
      "Requirement already satisfied: gast>=0.3.2 in /home/haritha/anaconda3/envs/tf_agent/lib/python3.8/site-packages (from tensorflow-probability>=0.9.0->tf-agents) (0.3.3)\n"
     ]
    }
   ],
   "source": [
    "#!sudo apt-get install -y xvfb ffmpeg\n",
    "!pip install 'gym==0.10.11'\n",
    "!pip install 'imageio==2.4.0'\n",
    "!pip install PILLOW\n",
    "!pip install 'pyglet==1.3.2'\n",
    "!pip install pyvirtualdisplay\n",
    "!pip install tf-agents"
   ]
  },
  {
   "cell_type": "code",
   "execution_count": 20,
   "metadata": {
    "colab": {},
    "colab_type": "code",
    "id": "sMitx5qSgJk1"
   },
   "outputs": [],
   "source": [
    "from __future__ import absolute_import, division, print_function\n",
    "\n",
    "import base64\n",
    "import imageio\n",
    "import IPython\n",
    "import matplotlib\n",
    "import matplotlib.pyplot as plt\n",
    "import numpy as np\n",
    "import PIL.Image\n",
    "import pyvirtualdisplay\n",
    "\n",
    "import tensorflow as tf\n",
    "\n",
    "from tf_agents.agents.dqn import dqn_agent\n",
    "from tf_agents.drivers import dynamic_step_driver\n",
    "from tf_agents.environments import suite_gym\n",
    "from tf_agents.environments import tf_py_environment\n",
    "from tf_agents.eval import metric_utils\n",
    "from tf_agents.metrics import tf_metrics\n",
    "from tf_agents.networks import q_network\n",
    "from tf_agents.policies import random_tf_policy\n",
    "from tf_agents.replay_buffers import tf_uniform_replay_buffer\n",
    "from tf_agents.trajectories import trajectory\n",
    "from tf_agents.utils import common"
   ]
  },
  {
   "cell_type": "code",
   "execution_count": 3,
   "metadata": {
    "colab": {},
    "colab_type": "code",
    "id": "J6HsdS5GbSjd"
   },
   "outputs": [],
   "source": [
    "tf.compat.v1.enable_v2_behavior()\n",
    "\n",
    "# Set up a virtual display for rendering OpenAI gym environments.\n",
    "display = pyvirtualdisplay.Display(visible=0, size=(1400, 900)).start()"
   ]
  },
  {
   "cell_type": "code",
   "execution_count": 4,
   "metadata": {
    "colab": {},
    "colab_type": "code",
    "id": "NspmzG4nP3b9"
   },
   "outputs": [
    {
     "data": {
      "text/plain": [
       "'2.2.0'"
      ]
     },
     "execution_count": 4,
     "metadata": {},
     "output_type": "execute_result"
    }
   ],
   "source": [
    "tf.version.VERSION"
   ]
  },
  {
   "cell_type": "code",
   "execution_count": 21,
   "metadata": {},
   "outputs": [
    {
     "ename": "Error",
     "evalue": "Cannot re-register id: taxi-v0",
     "output_type": "error",
     "traceback": [
      "\u001b[0;31m---------------------------------------------------------------------------\u001b[0m",
      "\u001b[0;31mError\u001b[0m                                     Traceback (most recent call last)",
      "\u001b[0;32m<ipython-input-21-fa5d3c0562ee>\u001b[0m in \u001b[0;36m<module>\u001b[0;34m\u001b[0m\n\u001b[1;32m      2\u001b[0m \u001b[0;32mimport\u001b[0m \u001b[0mgym\u001b[0m\u001b[0;34m\u001b[0m\u001b[0;34m\u001b[0m\u001b[0m\n\u001b[1;32m      3\u001b[0m \u001b[0;34m\u001b[0m\u001b[0m\n\u001b[0;32m----> 4\u001b[0;31m gym.envs.register(\n\u001b[0m\u001b[1;32m      5\u001b[0m      \u001b[0mid\u001b[0m\u001b[0;34m=\u001b[0m\u001b[0;34m'taxi-v0'\u001b[0m\u001b[0;34m,\u001b[0m\u001b[0;34m\u001b[0m\u001b[0;34m\u001b[0m\u001b[0m\n\u001b[1;32m      6\u001b[0m      \u001b[0mentry_point\u001b[0m\u001b[0;34m=\u001b[0m\u001b[0;34m'env.taxi:TaxiEnv'\u001b[0m\u001b[0;34m,\u001b[0m\u001b[0;34m\u001b[0m\u001b[0;34m\u001b[0m\u001b[0m\n",
      "\u001b[0;32m~/anaconda3/envs/tf_agent/lib/python3.8/site-packages/gym/envs/registration.py\u001b[0m in \u001b[0;36mregister\u001b[0;34m(id, **kwargs)\u001b[0m\n\u001b[1;32m    140\u001b[0m \u001b[0;34m\u001b[0m\u001b[0m\n\u001b[1;32m    141\u001b[0m \u001b[0;32mdef\u001b[0m \u001b[0mregister\u001b[0m\u001b[0;34m(\u001b[0m\u001b[0mid\u001b[0m\u001b[0;34m,\u001b[0m \u001b[0;34m**\u001b[0m\u001b[0mkwargs\u001b[0m\u001b[0;34m)\u001b[0m\u001b[0;34m:\u001b[0m\u001b[0;34m\u001b[0m\u001b[0;34m\u001b[0m\u001b[0m\n\u001b[0;32m--> 142\u001b[0;31m     \u001b[0;32mreturn\u001b[0m \u001b[0mregistry\u001b[0m\u001b[0;34m.\u001b[0m\u001b[0mregister\u001b[0m\u001b[0;34m(\u001b[0m\u001b[0mid\u001b[0m\u001b[0;34m,\u001b[0m \u001b[0;34m**\u001b[0m\u001b[0mkwargs\u001b[0m\u001b[0;34m)\u001b[0m\u001b[0;34m\u001b[0m\u001b[0;34m\u001b[0m\u001b[0m\n\u001b[0m\u001b[1;32m    143\u001b[0m \u001b[0;34m\u001b[0m\u001b[0m\n\u001b[1;32m    144\u001b[0m \u001b[0;32mdef\u001b[0m \u001b[0mmake\u001b[0m\u001b[0;34m(\u001b[0m\u001b[0mid\u001b[0m\u001b[0;34m,\u001b[0m \u001b[0;34m**\u001b[0m\u001b[0mkwargs\u001b[0m\u001b[0;34m)\u001b[0m\u001b[0;34m:\u001b[0m\u001b[0;34m\u001b[0m\u001b[0;34m\u001b[0m\u001b[0m\n",
      "\u001b[0;32m~/anaconda3/envs/tf_agent/lib/python3.8/site-packages/gym/envs/registration.py\u001b[0m in \u001b[0;36mregister\u001b[0;34m(self, id, **kwargs)\u001b[0m\n\u001b[1;32m    133\u001b[0m     \u001b[0;32mdef\u001b[0m \u001b[0mregister\u001b[0m\u001b[0;34m(\u001b[0m\u001b[0mself\u001b[0m\u001b[0;34m,\u001b[0m \u001b[0mid\u001b[0m\u001b[0;34m,\u001b[0m \u001b[0;34m**\u001b[0m\u001b[0mkwargs\u001b[0m\u001b[0;34m)\u001b[0m\u001b[0;34m:\u001b[0m\u001b[0;34m\u001b[0m\u001b[0;34m\u001b[0m\u001b[0m\n\u001b[1;32m    134\u001b[0m         \u001b[0;32mif\u001b[0m \u001b[0mid\u001b[0m \u001b[0;32min\u001b[0m \u001b[0mself\u001b[0m\u001b[0;34m.\u001b[0m\u001b[0menv_specs\u001b[0m\u001b[0;34m:\u001b[0m\u001b[0;34m\u001b[0m\u001b[0;34m\u001b[0m\u001b[0m\n\u001b[0;32m--> 135\u001b[0;31m             \u001b[0;32mraise\u001b[0m \u001b[0merror\u001b[0m\u001b[0;34m.\u001b[0m\u001b[0mError\u001b[0m\u001b[0;34m(\u001b[0m\u001b[0;34m'Cannot re-register id: {}'\u001b[0m\u001b[0;34m.\u001b[0m\u001b[0mformat\u001b[0m\u001b[0;34m(\u001b[0m\u001b[0mid\u001b[0m\u001b[0;34m)\u001b[0m\u001b[0;34m)\u001b[0m\u001b[0;34m\u001b[0m\u001b[0;34m\u001b[0m\u001b[0m\n\u001b[0m\u001b[1;32m    136\u001b[0m         \u001b[0mself\u001b[0m\u001b[0;34m.\u001b[0m\u001b[0menv_specs\u001b[0m\u001b[0;34m[\u001b[0m\u001b[0mid\u001b[0m\u001b[0;34m]\u001b[0m \u001b[0;34m=\u001b[0m \u001b[0mEnvSpec\u001b[0m\u001b[0;34m(\u001b[0m\u001b[0mid\u001b[0m\u001b[0;34m,\u001b[0m \u001b[0;34m**\u001b[0m\u001b[0mkwargs\u001b[0m\u001b[0;34m)\u001b[0m\u001b[0;34m\u001b[0m\u001b[0;34m\u001b[0m\u001b[0m\n\u001b[1;32m    137\u001b[0m \u001b[0;34m\u001b[0m\u001b[0m\n",
      "\u001b[0;31mError\u001b[0m: Cannot re-register id: taxi-v0"
     ]
    }
   ],
   "source": [
    "#register custom env\n",
    "import gym\n",
    "\n",
    "gym.envs.register(\n",
    "     id='taxi-v0',\n",
    "     entry_point='env.taxi:TaxiEnv',\n",
    "     max_episode_steps=150,\n",
    "     kwargs={},\n",
    ")"
   ]
  },
  {
   "cell_type": "code",
   "execution_count": 50,
   "metadata": {},
   "outputs": [],
   "source": [
    "#gym.make(\"taxi-v0\")"
   ]
  },
  {
   "cell_type": "markdown",
   "metadata": {
    "colab_type": "text",
    "id": "LmC0NDhdLIKY"
   },
   "source": [
    "## Hyperparameters"
   ]
  },
  {
   "cell_type": "code",
   "execution_count": 17,
   "metadata": {
    "colab": {},
    "colab_type": "code",
    "id": "HC1kNrOsLSIZ"
   },
   "outputs": [],
   "source": [
    "num_iterations = 20000 # @param {type:\"integer\"}\n",
    "\n",
    "initial_collect_steps = 1000  # @param {type:\"integer\"} \n",
    "collect_steps_per_iteration = 1  # @param {type:\"integer\"}\n",
    "replay_buffer_max_length = 100000  # @param {type:\"integer\"}\n",
    "\n",
    "batch_size = 64  # @param {type:\"integer\"}\n",
    "learning_rate = 1e-3  # @param {type:\"number\"}\n",
    "log_interval = 200  # @param {type:\"integer\"}\n",
    "\n",
    "num_eval_episodes = 10  # @param {type:\"integer\"}\n",
    "eval_interval = 1000  # @param {type:\"integer\"}"
   ]
  },
  {
   "cell_type": "markdown",
   "metadata": {
    "colab_type": "text",
    "id": "VMsJC3DEgI0x"
   },
   "source": [
    "## Environment\n",
    "\n",
    "In Reinforcement Learning (RL), an environment represents the task or problem to be solved. Standard environments can be created in TF-Agents using `tf_agents.environments` suites. TF-Agents has suites for loading environments from sources such as the OpenAI Gym, Atari, and DM Control.\n",
    "\n",
    "Load the CartPole environment from the OpenAI Gym suite. "
   ]
  },
  {
   "cell_type": "code",
   "execution_count": 24,
   "metadata": {
    "colab": {},
    "colab_type": "code",
    "id": "pYEz-S9gEv2-"
   },
   "outputs": [],
   "source": [
    "#load taxi env\n",
    "env_name = \"taxi-v0\"\n",
    "env = suite_gym.load(env_name)"
   ]
  },
  {
   "cell_type": "markdown",
   "metadata": {
    "colab_type": "text",
    "id": "IIHYVBkuvPNw"
   },
   "source": [
    "You can render this environment to see how it looks. A free-swinging pole is attached to a cart.  The goal is to move the cart right or left in order to keep the pole pointing up."
   ]
  },
  {
   "cell_type": "code",
   "execution_count": 25,
   "metadata": {
    "colab": {},
    "colab_type": "code",
    "id": "RlO7WIQHu_7D"
   },
   "outputs": [
    {
     "data": {
      "image/png": "[encoded data removed]",
      "text/plain": [
       "<PIL.Image.Image image mode=RGB size=600x400 at 0x7FE7880942E0>"
      ]
     },
     "execution_count": 25,
     "metadata": {},
     "output_type": "execute_result"
    }
   ],
   "source": [
    "#@test {\"skip\": true}\n",
    "env.reset()\n",
    "#PIL.Image.fromarray(env.render())"
   ]
  },
  {
   "cell_type": "markdown",
   "metadata": {
    "colab_type": "text",
    "id": "B9_lskPOey18"
   },
   "source": [
    "The `environment.step` method takes an `action` in the environment and returns a `TimeStep` tuple containing the next observation of the environment and the reward for the action.\n",
    "\n",
    "The `time_step_spec()` method returns the specification for the `TimeStep` tuple. Its `observation` attribute shows the shape of observations, the data types, and the ranges of allowed values. The `reward` attribute shows the same details for the reward.\n"
   ]
  },
  {
   "cell_type": "code",
   "execution_count": 26,
   "metadata": {
    "colab": {},
    "colab_type": "code",
    "id": "exDv57iHfwQV"
   },
   "outputs": [
    {
     "name": "stdout",
     "output_type": "stream",
     "text": [
      "Observation Spec:\n",
      "BoundedArraySpec(shape=(4,), dtype=dtype('float32'), name='observation', minimum=[-4.8000002e+00 -3.4028235e+38 -4.1887903e-01 -3.4028235e+38], maximum=[4.8000002e+00 3.4028235e+38 4.1887903e-01 3.4028235e+38])\n"
     ]
    }
   ],
   "source": [
    "print('Observation Spec:')\n",
    "print(env.time_step_spec().observation)"
   ]
  },
  {
   "cell_type": "code",
   "execution_count": 27,
   "metadata": {
    "colab": {},
    "colab_type": "code",
    "id": "UxiSyCbBUQPi"
   },
   "outputs": [
    {
     "name": "stdout",
     "output_type": "stream",
     "text": [
      "Reward Spec:\n",
      "ArraySpec(shape=(), dtype=dtype('float32'), name='reward')\n"
     ]
    }
   ],
   "source": [
    "print('Reward Spec:')\n",
    "print(env.time_step_spec().reward)"
   ]
  },
  {
   "cell_type": "markdown",
   "metadata": {
    "colab_type": "text",
    "id": "b_lHcIcqUaqB"
   },
   "source": [
    "The `action_spec()` method returns the shape, data types, and allowed values of valid actions."
   ]
  },
  {
   "cell_type": "code",
   "execution_count": 28,
   "metadata": {
    "colab": {},
    "colab_type": "code",
    "id": "bttJ4uxZUQBr"
   },
   "outputs": [
    {
     "name": "stdout",
     "output_type": "stream",
     "text": [
      "Action Spec:\n",
      "BoundedArraySpec(shape=(), dtype=dtype('int64'), name='action', minimum=0, maximum=1)\n"
     ]
    }
   ],
   "source": [
    "print('Action Spec:')\n",
    "print(env.action_spec())"
   ]
  },
  {
   "cell_type": "markdown",
   "metadata": {
    "colab_type": "text",
    "id": "eJCgJnx3g0yY"
   },
   "source": [
    "In the Cartpole environment:\n",
    "\n",
    "-   `observation` is an array of 4 floats: \n",
    "    -   the position and velocity of the cart\n",
    "    -   the angular position and velocity of the pole \n",
    "-   `reward` is a scalar float value\n",
    "-   `action` is a scalar integer with only two possible values:\n",
    "    -   `0` — \"move left\"\n",
    "    -   `1` — \"move right\"\n"
   ]
  },
  {
   "cell_type": "code",
   "execution_count": 29,
   "metadata": {
    "colab": {},
    "colab_type": "code",
    "id": "V2UGR5t_iZX-"
   },
   "outputs": [
    {
     "name": "stdout",
     "output_type": "stream",
     "text": [
      "Time step:\n",
      "TimeStep(step_type=array(0, dtype=int32), reward=array(0., dtype=float32), discount=array(1., dtype=float32), observation=array([-0.04365557, -0.02019059,  0.0457912 , -0.0103436 ], dtype=float32))\n",
      "Next time step:\n",
      "TimeStep(step_type=array(1, dtype=int32), reward=array(1., dtype=float32), discount=array(1., dtype=float32), observation=array([-0.04405938,  0.17424576,  0.04558433, -0.2882345 ], dtype=float32))\n"
     ]
    }
   ],
   "source": [
    "time_step = env.reset()\n",
    "print('Time step:')\n",
    "print(time_step)\n",
    "\n",
    "action = np.array(1, dtype=np.int32)\n",
    "\n",
    "next_time_step = env.step(action)\n",
    "print('Next time step:')\n",
    "print(next_time_step)"
   ]
  },
  {
   "cell_type": "markdown",
   "metadata": {
    "colab_type": "text",
    "id": "4JSc9GviWUBK"
   },
   "source": [
    "Usually two environments are instantiated: one for training and one for evaluation. "
   ]
  },
  {
   "cell_type": "code",
   "execution_count": 30,
   "metadata": {
    "colab": {},
    "colab_type": "code",
    "id": "N7brXNIGWXjC"
   },
   "outputs": [],
   "source": [
    "train_py_env = suite_gym.load(env_name)\n",
    "eval_py_env = suite_gym.load(env_name)"
   ]
  },
  {
   "cell_type": "markdown",
   "metadata": {
    "colab_type": "text",
    "id": "zuUqXAVmecTU"
   },
   "source": [
    "The Cartpole environment, like most environments, is written in pure Python. This is converted to TensorFlow using the `TFPyEnvironment` wrapper.\n",
    "\n",
    "The original environment's API uses Numpy arrays. The `TFPyEnvironment` converts these to `Tensors` to make it compatible with Tensorflow agents and policies.\n"
   ]
  },
  {
   "cell_type": "code",
   "execution_count": 31,
   "metadata": {
    "colab": {},
    "colab_type": "code",
    "id": "Xp-Y4mD6eDhF"
   },
   "outputs": [],
   "source": [
    "train_env = tf_py_environment.TFPyEnvironment(train_py_env)\n",
    "eval_env = tf_py_environment.TFPyEnvironment(eval_py_env)"
   ]
  },
  {
   "cell_type": "markdown",
   "metadata": {
    "colab_type": "text",
    "id": "E9lW_OZYFR8A"
   },
   "source": [
    "## Agent\n",
    "\n",
    "The algorithm used to solve an RL problem is represented by an `Agent`. TF-Agents provides standard implementations of a variety of `Agents`, including:\n",
    "\n",
    "-   [DQN](https://storage.googleapis.com/deepmind-media/dqn/DQNNaturePaper.pdf) (used in this tutorial)\n",
    "-   [REINFORCE](http://www-anw.cs.umass.edu/~barto/courses/cs687/williams92simple.pdf)\n",
    "-   [DDPG](https://arxiv.org/pdf/1509.02971.pdf)\n",
    "-   [TD3](https://arxiv.org/pdf/1802.09477.pdf)\n",
    "-   [PPO](https://arxiv.org/abs/1707.06347)\n",
    "-   [SAC](https://arxiv.org/abs/1801.01290).\n",
    "\n",
    "The DQN agent can be used in any environment which has a discrete action space.\n",
    "\n",
    "At the heart of a DQN Agent is a `QNetwork`, a neural network model that can learn to predict `QValues` (expected returns) for all actions, given an observation from the environment.\n",
    "\n",
    "Use `tf_agents.networks.q_network` to create a `QNetwork`, passing in the `observation_spec`, `action_spec`, and a tuple describing the number and size of the model's hidden layers.\n"
   ]
  },
  {
   "cell_type": "code",
   "execution_count": 32,
   "metadata": {
    "colab": {},
    "colab_type": "code",
    "id": "TgkdEPg_muzV"
   },
   "outputs": [],
   "source": [
    "fc_layer_params = (100,)\n",
    "\n",
    "q_net = q_network.QNetwork(\n",
    "    train_env.observation_spec(),\n",
    "    train_env.action_spec(),\n",
    "    fc_layer_params=fc_layer_params)"
   ]
  },
  {
   "cell_type": "markdown",
   "metadata": {
    "colab_type": "text",
    "id": "z62u55hSmviJ"
   },
   "source": [
    "Now use `tf_agents.agents.dqn.dqn_agent` to instantiate a `DqnAgent`. In addition to the `time_step_spec`, `action_spec` and the QNetwork, the agent constructor also requires an optimizer (in this case, `AdamOptimizer`), a loss function, and an integer step counter."
   ]
  },
  {
   "cell_type": "code",
   "execution_count": 33,
   "metadata": {
    "colab": {},
    "colab_type": "code",
    "id": "jbY4yrjTEyc9"
   },
   "outputs": [],
   "source": [
    "optimizer = tf.compat.v1.train.AdamOptimizer(learning_rate=learning_rate)\n",
    "\n",
    "train_step_counter = tf.Variable(0)\n",
    "\n",
    "agent = dqn_agent.DqnAgent(\n",
    "    train_env.time_step_spec(),\n",
    "    train_env.action_spec(),\n",
    "    q_network=q_net,\n",
    "    optimizer=optimizer,\n",
    "    td_errors_loss_fn=common.element_wise_squared_loss,\n",
    "    train_step_counter=train_step_counter)\n",
    "\n",
    "agent.initialize()"
   ]
  },
  {
   "cell_type": "markdown",
   "metadata": {
    "colab_type": "text",
    "id": "I0KLrEPwkn5x"
   },
   "source": [
    "## Policies\n",
    "\n",
    "A policy defines the way an agent acts in an environment. Typically, the goal of reinforcement learning is to train the underlying model until the policy produces the desired outcome.\n",
    "\n",
    "In this tutorial:\n",
    "\n",
    "-   The desired outcome is keeping the pole balanced upright over the cart.\n",
    "-   The policy returns an action (left or right) for each `time_step` observation.\n",
    "\n",
    "Agents contain two policies: \n",
    "\n",
    "-   `agent.policy` — The main policy that is used for evaluation and deployment.\n",
    "-   `agent.collect_policy` — A second policy that is used for data collection.\n"
   ]
  },
  {
   "cell_type": "code",
   "execution_count": 34,
   "metadata": {
    "colab": {},
    "colab_type": "code",
    "id": "BwY7StuMkuV4"
   },
   "outputs": [],
   "source": [
    "eval_policy = agent.policy\n",
    "collect_policy = agent.collect_policy"
   ]
  },
  {
   "cell_type": "markdown",
   "metadata": {
    "colab_type": "text",
    "id": "2Qs1Fl3dV0ae"
   },
   "source": [
    "Policies can be created independently of agents. For example, use `tf_agents.policies.random_tf_policy` to create a policy which will randomly select an action for each `time_step`."
   ]
  },
  {
   "cell_type": "code",
   "execution_count": 35,
   "metadata": {
    "colab": {},
    "colab_type": "code",
    "id": "HE37-UCIrE69"
   },
   "outputs": [],
   "source": [
    "random_policy = random_tf_policy.RandomTFPolicy(train_env.time_step_spec(),\n",
    "                                                train_env.action_spec())"
   ]
  },
  {
   "cell_type": "markdown",
   "metadata": {
    "colab_type": "text",
    "id": "dOlnlRRsUbxP"
   },
   "source": [
    "To get an action from a policy, call the `policy.action(time_step)` method. The `time_step` contains the observation from the environment. This method returns a `PolicyStep`, which is a named tuple with three components:\n",
    "\n",
    "-   `action` — the action to be taken (in this case, `0` or `1`)\n",
    "-   `state` — used for stateful (that is, RNN-based) policies\n",
    "-   `info` — auxiliary data, such as log probabilities of actions"
   ]
  },
  {
   "cell_type": "code",
   "execution_count": 36,
   "metadata": {
    "colab": {},
    "colab_type": "code",
    "id": "5gCcpXswVAxk"
   },
   "outputs": [],
   "source": [
    "example_environment = tf_py_environment.TFPyEnvironment(\n",
    "    suite_gym.load('CartPole-v0'))"
   ]
  },
  {
   "cell_type": "code",
   "execution_count": 37,
   "metadata": {
    "colab": {},
    "colab_type": "code",
    "id": "D4DHZtq3Ndis"
   },
   "outputs": [],
   "source": [
    "time_step = example_environment.reset()"
   ]
  },
  {
   "cell_type": "code",
   "execution_count": 38,
   "metadata": {
    "colab": {},
    "colab_type": "code",
    "id": "PRFqAUzpNaAW"
   },
   "outputs": [
    {
     "data": {
      "text/plain": [
       "PolicyStep(action=<tf.Tensor: shape=(1,), dtype=int64, numpy=array([1])>, state=(), info=())"
      ]
     },
     "execution_count": 38,
     "metadata": {},
     "output_type": "execute_result"
    }
   ],
   "source": [
    "random_policy.action(time_step)"
   ]
  },
  {
   "cell_type": "markdown",
   "metadata": {
    "colab_type": "text",
    "id": "94rCXQtbUbXv"
   },
   "source": [
    "## Metrics and Evaluation\n",
    "\n",
    "The most common metric used to evaluate a policy is the average return. The return is the sum of rewards obtained while running a policy in an environment for an episode. Several episodes are run, creating an average return.\n",
    "\n",
    "The following function computes the average return of a policy, given the policy, environment, and a number of episodes.\n"
   ]
  },
  {
   "cell_type": "code",
   "execution_count": 39,
   "metadata": {
    "colab": {},
    "colab_type": "code",
    "id": "bitzHo5_UbXy"
   },
   "outputs": [],
   "source": [
    "#@test {\"skip\": true}\n",
    "def compute_avg_return(environment, policy, num_episodes=10):\n",
    "\n",
    "  total_return = 0.0\n",
    "  for _ in range(num_episodes):\n",
    "\n",
    "    time_step = environment.reset()\n",
    "    episode_return = 0.0\n",
    "\n",
    "    while not time_step.is_last():\n",
    "      action_step = policy.action(time_step)\n",
    "      time_step = environment.step(action_step.action)\n",
    "      episode_return += time_step.reward\n",
    "    total_return += episode_return\n",
    "\n",
    "  avg_return = total_return / num_episodes\n",
    "  return avg_return.numpy()[0]\n",
    "\n",
    "\n",
    "# See also the metrics module for standard implementations of different metrics.\n",
    "# https://github.com/tensorflow/agents/tree/master/tf_agents/metrics"
   ]
  },
  {
   "cell_type": "markdown",
   "metadata": {
    "colab_type": "text",
    "id": "_snCVvq5Z8lJ"
   },
   "source": [
    "Running this computation on the `random_policy` shows a baseline performance in the environment."
   ]
  },
  {
   "cell_type": "code",
   "execution_count": 40,
   "metadata": {
    "colab": {},
    "colab_type": "code",
    "id": "9bgU6Q6BZ8Bp"
   },
   "outputs": [
    {
     "data": {
      "text/plain": [
       "15.5"
      ]
     },
     "execution_count": 40,
     "metadata": {},
     "output_type": "execute_result"
    }
   ],
   "source": [
    "compute_avg_return(eval_env, random_policy, num_eval_episodes)"
   ]
  },
  {
   "cell_type": "markdown",
   "metadata": {
    "colab_type": "text",
    "id": "NLva6g2jdWgr"
   },
   "source": [
    "## Replay Buffer\n",
    "\n",
    "The replay buffer keeps track of data collected from the environment. This tutorial uses `tf_agents.replay_buffers.tf_uniform_replay_buffer.TFUniformReplayBuffer`, as it is the most common. \n",
    "\n",
    "The constructor requires the specs for the data it will be collecting. This is available from the agent using the `collect_data_spec` method. The batch size and maximum buffer length are also required.\n"
   ]
  },
  {
   "cell_type": "code",
   "execution_count": 41,
   "metadata": {
    "colab": {},
    "colab_type": "code",
    "id": "vX2zGUWJGWAl"
   },
   "outputs": [],
   "source": [
    "replay_buffer = tf_uniform_replay_buffer.TFUniformReplayBuffer(\n",
    "    data_spec=agent.collect_data_spec,\n",
    "    batch_size=train_env.batch_size,\n",
    "    max_length=replay_buffer_max_length)"
   ]
  },
  {
   "cell_type": "markdown",
   "metadata": {
    "colab_type": "text",
    "id": "ZGNTDJpZs4NN"
   },
   "source": [
    "For most agents, `collect_data_spec` is a named tuple called `Trajectory`, containing the specs for observations, actions, rewards, and other items."
   ]
  },
  {
   "cell_type": "code",
   "execution_count": 42,
   "metadata": {
    "colab": {},
    "colab_type": "code",
    "id": "_IZ-3HcqgE1z",
    "scrolled": true
   },
   "outputs": [
    {
     "data": {
      "text/plain": [
       "Trajectory(step_type=TensorSpec(shape=(), dtype=tf.int32, name='step_type'), observation=BoundedTensorSpec(shape=(4,), dtype=tf.float32, name='observation', minimum=array([-4.8000002e+00, -3.4028235e+38, -4.1887903e-01, -3.4028235e+38],\n",
       "      dtype=float32), maximum=array([4.8000002e+00, 3.4028235e+38, 4.1887903e-01, 3.4028235e+38],\n",
       "      dtype=float32)), action=BoundedTensorSpec(shape=(), dtype=tf.int64, name='action', minimum=array(0), maximum=array(1)), policy_info=(), next_step_type=TensorSpec(shape=(), dtype=tf.int32, name='step_type'), reward=TensorSpec(shape=(), dtype=tf.float32, name='reward'), discount=BoundedTensorSpec(shape=(), dtype=tf.float32, name='discount', minimum=array(0., dtype=float32), maximum=array(1., dtype=float32)))"
      ]
     },
     "execution_count": 42,
     "metadata": {},
     "output_type": "execute_result"
    }
   ],
   "source": [
    "agent.collect_data_spec"
   ]
  },
  {
   "cell_type": "code",
   "execution_count": 43,
   "metadata": {
    "colab": {},
    "colab_type": "code",
    "id": "sy6g1tGcfRlw"
   },
   "outputs": [
    {
     "data": {
      "text/plain": [
       "('step_type',\n",
       " 'observation',\n",
       " 'action',\n",
       " 'policy_info',\n",
       " 'next_step_type',\n",
       " 'reward',\n",
       " 'discount')"
      ]
     },
     "execution_count": 43,
     "metadata": {},
     "output_type": "execute_result"
    }
   ],
   "source": [
    "agent.collect_data_spec._fields"
   ]
  },
  {
   "cell_type": "markdown",
   "metadata": {
    "colab_type": "text",
    "id": "rVD5nQ9ZGo8_"
   },
   "source": [
    "## Data Collection\n",
    "\n",
    "Now execute the random policy in the environment for a few steps, recording the data in the replay buffer."
   ]
  },
  {
   "cell_type": "code",
   "execution_count": 44,
   "metadata": {
    "colab": {},
    "colab_type": "code",
    "id": "wr1KSAEGG4h9"
   },
   "outputs": [],
   "source": [
    "#@test {\"skip\": true}\n",
    "def collect_step(environment, policy, buffer):\n",
    "  time_step = environment.current_time_step()\n",
    "  action_step = policy.action(time_step)\n",
    "  next_time_step = environment.step(action_step.action)\n",
    "  traj = trajectory.from_transition(time_step, action_step, next_time_step)\n",
    "\n",
    "  # Add trajectory to the replay buffer\n",
    "  buffer.add_batch(traj)\n",
    "\n",
    "def collect_data(env, policy, buffer, steps):\n",
    "  for _ in range(steps):\n",
    "    collect_step(env, policy, buffer)\n",
    "\n",
    "collect_data(train_env, random_policy, replay_buffer, steps=100)\n",
    "\n",
    "# This loop is so common in RL, that we provide standard implementations. \n",
    "# For more details see the drivers module.\n",
    "# https://www.tensorflow.org/agents/api_docs/python/tf_agents/drivers"
   ]
  },
  {
   "cell_type": "markdown",
   "metadata": {
    "colab_type": "text",
    "id": "84z5pQJdoKxo"
   },
   "source": [
    "The replay buffer is now a collection of Trajectories."
   ]
  },
  {
   "cell_type": "code",
   "execution_count": 45,
   "metadata": {
    "colab": {},
    "colab_type": "code",
    "id": "4wZnLu2ViO4E"
   },
   "outputs": [],
   "source": [
    "# For the curious:\n",
    "# Uncomment to peel one of these off and inspect it.\n",
    "#iter(replay_buffer.as_dataset()).next()"
   ]
  },
  {
   "cell_type": "markdown",
   "metadata": {
    "colab_type": "text",
    "id": "TujU-PMUsKjS"
   },
   "source": [
    "The agent needs access to the replay buffer. This is provided by creating an iterable `tf.data.Dataset` pipeline which will feed data to the agent.\n",
    "\n",
    "Each row of the replay buffer only stores a single observation step. But since the DQN Agent needs both the current and next observation to compute the loss, the dataset pipeline will sample two adjacent rows for each item in the batch (`num_steps=2`).\n",
    "\n",
    "This dataset is also optimized by running parallel calls and prefetching data."
   ]
  },
  {
   "cell_type": "code",
   "execution_count": 46,
   "metadata": {
    "colab": {},
    "colab_type": "code",
    "id": "ba7bilizt_qW"
   },
   "outputs": [
    {
     "data": {
      "text/plain": [
       "<PrefetchDataset shapes: (Trajectory(step_type=(64, 2), observation=(64, 2, 4), action=(64, 2), policy_info=(), next_step_type=(64, 2), reward=(64, 2), discount=(64, 2)), BufferInfo(ids=(64, 2), probabilities=(64,))), types: (Trajectory(step_type=tf.int32, observation=tf.float32, action=tf.int64, policy_info=(), next_step_type=tf.int32, reward=tf.float32, discount=tf.float32), BufferInfo(ids=tf.int64, probabilities=tf.float32))>"
      ]
     },
     "execution_count": 46,
     "metadata": {},
     "output_type": "execute_result"
    }
   ],
   "source": [
    "# Dataset generates trajectories with shape [Bx2x...]\n",
    "dataset = replay_buffer.as_dataset(\n",
    "    num_parallel_calls=3, \n",
    "    sample_batch_size=batch_size, \n",
    "    num_steps=2).prefetch(3)\n",
    "\n",
    "\n",
    "dataset"
   ]
  },
  {
   "cell_type": "code",
   "execution_count": 47,
   "metadata": {
    "colab": {},
    "colab_type": "code",
    "id": "K13AST-2ppOq"
   },
   "outputs": [
    {
     "name": "stdout",
     "output_type": "stream",
     "text": [
      "<tensorflow.python.data.ops.iterator_ops.OwnedIterator object at 0x7fe78021a700>\n"
     ]
    }
   ],
   "source": [
    "iterator = iter(dataset)\n",
    "\n",
    "print(iterator)\n"
   ]
  },
  {
   "cell_type": "code",
   "execution_count": 48,
   "metadata": {
    "colab": {},
    "colab_type": "code",
    "id": "Th5w5Sff0b16"
   },
   "outputs": [],
   "source": [
    "# For the curious:\n",
    "# Uncomment to see what the dataset iterator is feeding to the agent.\n",
    "# Compare this representation of replay data \n",
    "# to the collection of individual trajectories shown earlier.\n",
    "\n",
    "#iterator.next()"
   ]
  },
  {
   "cell_type": "markdown",
   "metadata": {
    "colab_type": "text",
    "id": "hBc9lj9VWWtZ"
   },
   "source": [
    "## Training the agent\n",
    "\n",
    "Two things must happen during the training loop:\n",
    "\n",
    "-   collect data from the environment\n",
    "-   use that data to train the agent's neural network(s)\n",
    "\n",
    "This example also periodicially evaluates the policy and prints the current score.\n",
    "\n",
    "The following will take ~5 minutes to run."
   ]
  },
  {
   "cell_type": "code",
   "execution_count": 49,
   "metadata": {
    "colab": {},
    "colab_type": "code",
    "id": "0pTbJ3PeyF-u"
   },
   "outputs": [
    {
     "name": "stdout",
     "output_type": "stream",
     "text": [
      "step = 200: loss = 15.946575164794922\n",
      "step = 400: loss = 22.71263313293457\n",
      "step = 600: loss = 9.920918464660645\n",
      "step = 800: loss = 14.179219245910645\n",
      "step = 1000: loss = 11.864030838012695\n",
      "step = 1000: Average Return = 14.399999618530273\n",
      "step = 1200: loss = 15.598362922668457\n",
      "step = 1400: loss = 22.239093780517578\n",
      "step = 1600: loss = 14.439834594726562\n",
      "step = 1800: loss = 4.542724132537842\n",
      "step = 2000: loss = 21.288230895996094\n",
      "step = 2000: Average Return = 34.599998474121094\n",
      "step = 2200: loss = 5.226304054260254\n",
      "step = 2400: loss = 18.096519470214844\n",
      "step = 2600: loss = 13.360163688659668\n",
      "step = 2800: loss = 18.71835708618164\n",
      "step = 3000: loss = 7.194421768188477\n",
      "step = 3000: Average Return = 23.799999237060547\n",
      "step = 3200: loss = 7.306186676025391\n",
      "step = 3400: loss = 7.94092321395874\n",
      "step = 3600: loss = 37.506980895996094\n",
      "step = 3800: loss = 18.166276931762695\n",
      "step = 4000: loss = 11.12047290802002\n",
      "step = 4000: Average Return = 103.5999984741211\n",
      "step = 4200: loss = 74.3187484741211\n",
      "step = 4400: loss = 5.198406219482422\n",
      "step = 4600: loss = 40.19226837158203\n",
      "step = 4800: loss = 14.002839088439941\n",
      "step = 5000: loss = 5.47370719909668\n",
      "step = 5000: Average Return = 118.5999984741211\n",
      "step = 5200: loss = 36.826133728027344\n",
      "step = 5400: loss = 19.428150177001953\n",
      "step = 5600: loss = 17.198328018188477\n",
      "step = 5800: loss = 6.390542030334473\n",
      "step = 6000: loss = 137.5242156982422\n",
      "step = 6000: Average Return = 126.4000015258789\n",
      "step = 6200: loss = 60.370361328125\n",
      "step = 6400: loss = 92.579345703125\n",
      "step = 6600: loss = 229.7322540283203\n",
      "step = 6800: loss = 198.0101318359375\n",
      "step = 7000: loss = 34.86933135986328\n",
      "step = 7000: Average Return = 125.19999694824219\n",
      "step = 7200: loss = 123.79837036132812\n",
      "step = 7400: loss = 44.65272521972656\n",
      "step = 7600: loss = 94.03518676757812\n",
      "step = 7800: loss = 154.46095275878906\n",
      "step = 8000: loss = 353.0162353515625\n",
      "step = 8000: Average Return = 149.3000030517578\n",
      "step = 8200: loss = 62.36027908325195\n",
      "step = 8400: loss = 12.004341125488281\n",
      "step = 8600: loss = 17.692829132080078\n",
      "step = 8800: loss = 106.91154479980469\n",
      "step = 9000: loss = 25.366506576538086\n",
      "step = 9000: Average Return = 149.10000610351562\n",
      "step = 9200: loss = 11.878129005432129\n",
      "step = 9400: loss = 167.802734375\n",
      "step = 9600: loss = 96.84451293945312\n",
      "step = 9800: loss = 190.65203857421875\n",
      "step = 10000: loss = 22.51473045349121\n",
      "step = 10000: Average Return = 150.0\n",
      "step = 10200: loss = 103.6751708984375\n",
      "step = 10400: loss = 55.19474792480469\n",
      "step = 10600: loss = 20.505027770996094\n",
      "step = 10800: loss = 668.849609375\n",
      "step = 11000: loss = 8.695469856262207\n",
      "step = 11000: Average Return = 150.0\n",
      "step = 11200: loss = 149.1168212890625\n",
      "step = 11400: loss = 263.73297119140625\n",
      "step = 11600: loss = 21.66035270690918\n",
      "step = 11800: loss = 180.1922149658203\n",
      "step = 12000: loss = 372.8165588378906\n",
      "step = 12000: Average Return = 150.0\n",
      "step = 12200: loss = 45.64708709716797\n",
      "step = 12400: loss = 232.8193359375\n",
      "step = 12600: loss = 415.1708984375\n",
      "step = 12800: loss = 416.356689453125\n",
      "step = 13000: loss = 49.60277557373047\n",
      "step = 13000: Average Return = 150.0\n",
      "step = 13200: loss = 56.63186264038086\n",
      "step = 13400: loss = 78.26425170898438\n",
      "step = 13600: loss = 38.80791473388672\n",
      "step = 13800: loss = 11.67652416229248\n",
      "step = 14000: loss = 359.50665283203125\n",
      "step = 14000: Average Return = 150.0\n",
      "step = 14200: loss = 66.8942642211914\n",
      "step = 14400: loss = 580.8598022460938\n",
      "step = 14600: loss = 36.991973876953125\n",
      "step = 14800: loss = 47.20460510253906\n",
      "step = 15000: loss = 21.550859451293945\n",
      "step = 15000: Average Return = 150.0\n",
      "step = 15200: loss = 931.7659301757812\n",
      "step = 15400: loss = 84.50631713867188\n",
      "step = 15600: loss = 33.48915481567383\n",
      "step = 15800: loss = 84.37905883789062\n",
      "step = 16000: loss = 54.29735565185547\n",
      "step = 16000: Average Return = 150.0\n",
      "step = 16200: loss = 458.110107421875\n",
      "step = 16400: loss = 1020.4239501953125\n",
      "step = 16600: loss = 100.44548034667969\n",
      "step = 16800: loss = 1107.4967041015625\n",
      "step = 17000: loss = 23.023914337158203\n",
      "step = 17000: Average Return = 150.0\n",
      "step = 17200: loss = 35.395633697509766\n",
      "step = 17400: loss = 75.62905883789062\n",
      "step = 17600: loss = 1627.472412109375\n",
      "step = 17800: loss = 432.990966796875\n",
      "step = 18000: loss = 861.461181640625\n",
      "step = 18000: Average Return = 150.0\n",
      "step = 18200: loss = 483.32525634765625\n",
      "step = 18400: loss = 86.84463500976562\n",
      "step = 18600: loss = 32.29666519165039\n",
      "step = 18800: loss = 3393.5703125\n",
      "step = 19000: loss = 30.654233932495117\n",
      "step = 19000: Average Return = 150.0\n",
      "step = 19200: loss = 185.9241943359375\n",
      "step = 19400: loss = 69.9855728149414\n",
      "step = 19600: loss = 1537.4677734375\n",
      "step = 19800: loss = 91.38353729248047\n",
      "step = 20000: loss = 658.7050170898438\n",
      "step = 20000: Average Return = 150.0\n"
     ]
    }
   ],
   "source": [
    "#@test {\"skip\": true}\n",
    "try:\n",
    "  %%time\n",
    "except:\n",
    "  pass\n",
    "\n",
    "# (Optional) Optimize by wrapping some of the code in a graph using TF function.\n",
    "agent.train = common.function(agent.train)\n",
    "\n",
    "# Reset the train step\n",
    "agent.train_step_counter.assign(0)\n",
    "\n",
    "# Evaluate the agent's policy once before training.\n",
    "avg_return = compute_avg_return(eval_env, agent.policy, num_eval_episodes)\n",
    "returns = [avg_return]\n",
    "\n",
    "for _ in range(num_iterations):\n",
    "\n",
    "  # Collect a few steps using collect_policy and save to the replay buffer.\n",
    "  #taxi - this loop should occur for 4 weeks? how to have multiple agents?\n",
    "  for _ in range(collect_steps_per_iteration):\n",
    "    collect_step(train_env, agent.collect_policy, replay_buffer)\n",
    "\n",
    "  # Sample a batch of data from the buffer and update the agent's network.\n",
    "  experience, unused_info = next(iterator)\n",
    "  train_loss = agent.train(experience).loss\n",
    "\n",
    "  step = agent.train_step_counter.numpy()\n",
    "\n",
    "  if step % log_interval == 0:\n",
    "    print('step = {0}: loss = {1}'.format(step, train_loss))\n",
    "\n",
    "  if step % eval_interval == 0:\n",
    "    avg_return = compute_avg_return(eval_env, agent.policy, num_eval_episodes)\n",
    "    print('step = {0}: Average Return = {1}'.format(step, avg_return))\n",
    "    returns.append(avg_return)"
   ]
  },
  {
   "cell_type": "markdown",
   "metadata": {
    "colab_type": "text",
    "id": "68jNcA_TiJDq"
   },
   "source": [
    "## Visualization\n"
   ]
  },
  {
   "cell_type": "markdown",
   "metadata": {
    "colab_type": "text",
    "id": "aO-LWCdbbOIC"
   },
   "source": [
    "### Plots\n",
    "\n",
    "Use `matplotlib.pyplot` to chart how the policy improved during training.\n",
    "\n",
    "One iteration of `Cartpole-v0` consists of 200 time steps. The environment gives a reward of `+1` for each step the pole stays up, so the maximum return for one episode is 200. The charts shows the return increasing towards that maximum each time it is evaluated during training. (It may be a little unstable and not increase monotonically each time.)"
   ]
  },
  {
   "cell_type": "code",
   "execution_count": 39,
   "metadata": {
    "colab": {},
    "colab_type": "code",
    "id": "NxtL1mbOYCVO"
   },
   "outputs": [
    {
     "data": {
      "text/plain": [
       "(4.280000400543212, 250.0)"
      ]
     },
     "execution_count": 39,
     "metadata": {},
     "output_type": "execute_result"
    },
    {
     "data": {
      "image/png": "[encoded data removed]",
      "text/plain": [
       "<Figure size 432x288 with 1 Axes>"
      ]
     },
     "metadata": {
      "needs_background": "light"
     },
     "output_type": "display_data"
    }
   ],
   "source": [
    "#@test {\"skip\": true}\n",
    "\n",
    "iterations = range(0, num_iterations + 1, eval_interval)\n",
    "plt.plot(iterations, returns)\n",
    "plt.ylabel('Average Return')\n",
    "plt.xlabel('Iterations')\n",
    "plt.ylim(top=250)"
   ]
  },
  {
   "cell_type": "markdown",
   "metadata": {
    "colab_type": "text",
    "id": "M7-XpPP99Cy7"
   },
   "source": [
    "### Videos"
   ]
  },
  {
   "cell_type": "markdown",
   "metadata": {
    "colab_type": "text",
    "id": "9pGfGxSH32gn"
   },
   "source": [
    "Charts are nice. But more exciting is seeing an agent actually performing a task in an environment. \n",
    "\n",
    "First, create a function to embed videos in the notebook."
   ]
  },
  {
   "cell_type": "code",
   "execution_count": 40,
   "metadata": {
    "colab": {},
    "colab_type": "code",
    "id": "ULaGr8pvOKbl"
   },
   "outputs": [],
   "source": [
    "def embed_mp4(filename):\n",
    "  \"\"\"Embeds an mp4 file in the notebook.\"\"\"\n",
    "  video = open(filename,'rb').read()\n",
    "  b64 = base64.b64encode(video)\n",
    "  tag = '''\n",
    "  <video width=\"640\" height=\"480\" controls>\n",
    "    <source src=\"data:video/mp4;base64,{0}\" type=\"video/mp4\">\n",
    "  Your browser does not support the video tag.\n",
    "  </video>'''.format(b64.decode())\n",
    "\n",
    "  return IPython.display.HTML(tag)"
   ]
  },
  {
   "cell_type": "markdown",
   "metadata": {
    "colab_type": "text",
    "id": "9c_PH-pX4Pr5"
   },
   "source": [
    "Now iterate through a few episodes of the Cartpole game with the agent. The underlying Python environment (the one \"inside\" the TensorFlow environment wrapper) provides a `render()` method, which outputs an image of the environment state. These can be collected into a video."
   ]
  },
  {
   "cell_type": "code",
   "execution_count": 42,
   "metadata": {
    "colab": {},
    "colab_type": "code",
    "id": "owOVWB158NlF"
   },
   "outputs": [
    {
     "name": "stderr",
     "output_type": "stream",
     "text": [
      "WARNING:root:IMAGEIO FFMPEG_WRITER WARNING: input image is not divisible by macro_block_size=16, resizing from (400, 600) to (400, 608) to ensure video compatibility with most codecs and players. To prevent resizing, make your input image divisible by the macro_block_size or set the macro_block_size to None (risking incompatibility). You may also see a FFMPEG warning concerning speedloss due to data not being aligned.\n"
     ]
    },
    {
     "data": {
      "text/html": [
       "\n",
       "  <video width=\"640\" height=\"480\" controls>\n",
       "    <source src=\"data:video/mp4;base64,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\" type=\"video/mp4\">\n",
       "  Your browser does not support the video tag.\n",
       "  </video>"
      ],
      "text/plain": [
       "<IPython.core.display.HTML object>"
      ]
     },
     "execution_count": 42,
     "metadata": {},
     "output_type": "execute_result"
    }
   ],
   "source": [
    "def create_policy_eval_video(policy, filename, num_episodes=5, fps=30):\n",
    "  filename = filename + \".mp4\"\n",
    "  with imageio.get_writer(filename, fps=fps) as video:\n",
    "    for _ in range(num_episodes):\n",
    "      time_step = eval_env.reset()\n",
    "      video.append_data(eval_py_env.render())\n",
    "      while not time_step.is_last():\n",
    "        action_step = policy.action(time_step)\n",
    "        time_step = eval_env.step(action_step.action)\n",
    "        video.append_data(eval_py_env.render())\n",
    "  return embed_mp4(filename)\n",
    "\n",
    "\n",
    "\n",
    "\n",
    "create_policy_eval_video(agent.policy, \"trained-agent\")"
   ]
  },
  {
   "cell_type": "markdown",
   "metadata": {
    "colab_type": "text",
    "id": "povaAOcZygLw"
   },
   "source": [
    "For fun, compare the trained agent (above) to an agent moving randomly. (It does not do as well.)"
   ]
  },
  {
   "cell_type": "code",
   "execution_count": 0,
   "metadata": {
    "colab": {},
    "colab_type": "code",
    "id": "pJZIdC37yNH4"
   },
   "outputs": [],
   "source": [
    "create_policy_eval_video(random_policy, \"random-agent\")"
   ]
  }
 ],
 "metadata": {
  "colab": {
   "collapsed_sections": [],
   "name": "DQN Tutorial.ipynb",
   "private_outputs": true,
   "provenance": [],
   "toc_visible": true
  },
  "kernelspec": {
   "display_name": "Python 3",
   "language": "python",
   "name": "python3"
  },
  "language_info": {
   "codemirror_mode": {
    "name": "ipython",
    "version": 3
   },
   "file_extension": ".py",
   "mimetype": "text/x-python",
   "name": "python",
   "nbconvert_exporter": "python",
   "pygments_lexer": "ipython3",
   "version": "3.8.3"
  },
  "pycharm": {
   "stem_cell": {
    "cell_type": "raw",
    "metadata": {
     "collapsed": false
    },
    "source": []
   }
  }
 },
 "nbformat": 4,
 "nbformat_minor": 1
}
